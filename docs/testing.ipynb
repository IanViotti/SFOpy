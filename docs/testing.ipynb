{
 "cells": [
  {
   "cell_type": "code",
   "execution_count": 1,
   "id": "fc1fe3fe-7309-4e42-9c6a-3cc648120091",
   "metadata": {},
   "outputs": [],
   "source": [
    "import numpy as np\n",
    "import os"
   ]
  },
  {
   "cell_type": "code",
   "execution_count": 2,
   "id": "d7803edb-679f-49da-baea-4f48dd29f332",
   "metadata": {},
   "outputs": [],
   "source": [
    "os.getcwd()\n",
    "os.chdir('..')"
   ]
  },
  {
   "cell_type": "code",
   "execution_count": 3,
   "id": "bf6fbb3a-b097-4906-add3-f2ab97c319a3",
   "metadata": {},
   "outputs": [],
   "source": [
    "from sfopy.single import SingleSFO\n",
    "from sfopy.utils.functions import poly"
   ]
  },
  {
   "cell_type": "code",
   "execution_count": 4,
   "id": "c3fec04b-5d9f-45d3-a104-4ce02f9871dc",
   "metadata": {},
   "outputs": [],
   "source": [
    "n_plants = 10\n",
    "dimensions = 2\n",
    "options = {'p': 0.05, 'm': 0.1, 's': 0.85}\n",
    "bounds = np.array([[0, 1], [1, 2]])\n",
    "\n",
    "SFO = SingleSFO(n_plants, dimensions, options, bounds)"
   ]
  },
  {
   "cell_type": "code",
   "execution_count": 5,
   "id": "8da3561e-f61c-48a4-833e-2416d15c326a",
   "metadata": {
    "tags": []
   },
   "outputs": [
    {
     "data": {
      "text/plain": [
       "(array([[0.91160822, 1.20019165],\n",
       "        [0.27541819, 1.71737939],\n",
       "        [0.09799571, 1.43334458],\n",
       "        [0.37955334, 1.87492955],\n",
       "        [0.75193688, 1.94569065],\n",
       "        [0.1768714 , 1.33563624],\n",
       "        [0.51258025, 1.69776054],\n",
       "        [0.11784932, 1.40361224],\n",
       "        [0.74775317, 1.14810376],\n",
       "        [0.97853946, 1.39118851]]),\n",
       " array([1.44045999, 2.94939197, 2.05447668, 3.5153608 , 3.78571212,\n",
       "        1.78392418, 2.88239086, 1.97012733, 1.31814224, 1.93540547]))"
      ]
     },
     "execution_count": 5,
     "metadata": {},
     "output_type": "execute_result"
    }
   ],
   "source": [
    "plants = SFO.initial_flora(poly)\n",
    "plants"
   ]
  },
  {
   "cell_type": "code",
   "execution_count": null,
   "id": "fecdb618-e733-4a93-9b43-eaf439d40972",
   "metadata": {},
   "outputs": [],
   "source": [
    "def poly(X):\n",
    "    for d in range(np.shape(X)[1]):\n",
    "        y = X[:, d]**2\n",
    "    return y"
   ]
  },
  {
   "cell_type": "code",
   "execution_count": null,
   "id": "bd9623c1-cefe-4fbf-b048-7c393c08a73f",
   "metadata": {},
   "outputs": [],
   "source": []
  }
 ],
 "metadata": {
  "kernelspec": {
   "display_name": "Python 3 (ipykernel)",
   "language": "python",
   "name": "python3"
  },
  "language_info": {
   "codemirror_mode": {
    "name": "ipython",
    "version": 3
   },
   "file_extension": ".py",
   "mimetype": "text/x-python",
   "name": "python",
   "nbconvert_exporter": "python",
   "pygments_lexer": "ipython3",
   "version": "3.9.12"
  }
 },
 "nbformat": 4,
 "nbformat_minor": 5
}
